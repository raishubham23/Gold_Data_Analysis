{
 "cells": [
  {
   "cell_type": "markdown",
   "id": "37c7af21",
   "metadata": {},
   "source": [
    "# Data load"
   ]
  },
  {
   "cell_type": "code",
   "execution_count": 1,
   "id": "819413db",
   "metadata": {},
   "outputs": [],
   "source": [
    "import numpy as np\n",
    "import pandas as pd"
   ]
  },
  {
   "cell_type": "code",
   "execution_count": 2,
   "id": "e1b562da",
   "metadata": {},
   "outputs": [],
   "source": [
    "Gold_df1= pd.read_csv('XAU_1d_data.csv')\n",
    "Gold_df2= pd.read_csv('XAU_1h_data.csv')"
   ]
  },
  {
   "cell_type": "code",
   "execution_count": 3,
   "id": "9825ad77",
   "metadata": {},
   "outputs": [
    {
     "data": {
      "text/html": [
       "<div>\n",
       "<style scoped>\n",
       "    .dataframe tbody tr th:only-of-type {\n",
       "        vertical-align: middle;\n",
       "    }\n",
       "\n",
       "    .dataframe tbody tr th {\n",
       "        vertical-align: top;\n",
       "    }\n",
       "\n",
       "    .dataframe thead th {\n",
       "        text-align: right;\n",
       "    }\n",
       "</style>\n",
       "<table border=\"1\" class=\"dataframe\">\n",
       "  <thead>\n",
       "    <tr style=\"text-align: right;\">\n",
       "      <th></th>\n",
       "      <th>Date;Open;High;Low;Close;Volume</th>\n",
       "    </tr>\n",
       "  </thead>\n",
       "  <tbody>\n",
       "    <tr>\n",
       "      <th>0</th>\n",
       "      <td>2004.06.11 00:00;384;384.8;382.8;384.1;272</td>\n",
       "    </tr>\n",
       "    <tr>\n",
       "      <th>1</th>\n",
       "      <td>2004.06.14 00:00;384.3;385.8;381.8;382.8;1902</td>\n",
       "    </tr>\n",
       "    <tr>\n",
       "      <th>2</th>\n",
       "      <td>2004.06.15 00:00;382.8;388.8;381.1;388.6;1951</td>\n",
       "    </tr>\n",
       "    <tr>\n",
       "      <th>3</th>\n",
       "      <td>2004.06.16 00:00;387.1;389.8;382.6;383.8;2014</td>\n",
       "    </tr>\n",
       "    <tr>\n",
       "      <th>4</th>\n",
       "      <td>2004.06.17 00:00;383.6;389.3;383;387.6;1568</td>\n",
       "    </tr>\n",
       "    <tr>\n",
       "      <th>...</th>\n",
       "      <td>...</td>\n",
       "    </tr>\n",
       "    <tr>\n",
       "      <th>5386</th>\n",
       "      <td>2025.06.02 00:00;3298.76;3382.86;3295.75;3380....</td>\n",
       "    </tr>\n",
       "    <tr>\n",
       "      <th>5387</th>\n",
       "      <td>2025.06.03 00:00;3383.51;3392.19;3333.08;3352....</td>\n",
       "    </tr>\n",
       "    <tr>\n",
       "      <th>5388</th>\n",
       "      <td>2025.06.04 00:00;3353.93;3384.64;3343.67;3372....</td>\n",
       "    </tr>\n",
       "    <tr>\n",
       "      <th>5389</th>\n",
       "      <td>2025.06.05 00:00;3373.34;3403.42;3339.43;3351....</td>\n",
       "    </tr>\n",
       "    <tr>\n",
       "      <th>5390</th>\n",
       "      <td>2025.06.06 00:00;3353.55;3369.26;3353;3368.94;...</td>\n",
       "    </tr>\n",
       "  </tbody>\n",
       "</table>\n",
       "<p>5391 rows × 1 columns</p>\n",
       "</div>"
      ],
      "text/plain": [
       "                        Date;Open;High;Low;Close;Volume\n",
       "0            2004.06.11 00:00;384;384.8;382.8;384.1;272\n",
       "1         2004.06.14 00:00;384.3;385.8;381.8;382.8;1902\n",
       "2         2004.06.15 00:00;382.8;388.8;381.1;388.6;1951\n",
       "3         2004.06.16 00:00;387.1;389.8;382.6;383.8;2014\n",
       "4           2004.06.17 00:00;383.6;389.3;383;387.6;1568\n",
       "...                                                 ...\n",
       "5386  2025.06.02 00:00;3298.76;3382.86;3295.75;3380....\n",
       "5387  2025.06.03 00:00;3383.51;3392.19;3333.08;3352....\n",
       "5388  2025.06.04 00:00;3353.93;3384.64;3343.67;3372....\n",
       "5389  2025.06.05 00:00;3373.34;3403.42;3339.43;3351....\n",
       "5390  2025.06.06 00:00;3353.55;3369.26;3353;3368.94;...\n",
       "\n",
       "[5391 rows x 1 columns]"
      ]
     },
     "execution_count": 3,
     "metadata": {},
     "output_type": "execute_result"
    }
   ],
   "source": [
    "Gold_df1"
   ]
  },
  {
   "cell_type": "code",
   "execution_count": 4,
   "id": "76702001",
   "metadata": {},
   "outputs": [
    {
     "data": {
      "text/html": [
       "<div>\n",
       "<style scoped>\n",
       "    .dataframe tbody tr th:only-of-type {\n",
       "        vertical-align: middle;\n",
       "    }\n",
       "\n",
       "    .dataframe tbody tr th {\n",
       "        vertical-align: top;\n",
       "    }\n",
       "\n",
       "    .dataframe thead th {\n",
       "        text-align: right;\n",
       "    }\n",
       "</style>\n",
       "<table border=\"1\" class=\"dataframe\">\n",
       "  <thead>\n",
       "    <tr style=\"text-align: right;\">\n",
       "      <th></th>\n",
       "      <th>Date;Open;High;Low;Close;Volume</th>\n",
       "    </tr>\n",
       "  </thead>\n",
       "  <tbody>\n",
       "    <tr>\n",
       "      <th>0</th>\n",
       "      <td>2004.06.11 07:00;384;384.3;383.3;383.8;44</td>\n",
       "    </tr>\n",
       "    <tr>\n",
       "      <th>1</th>\n",
       "      <td>2004.06.11 08:00;383.8;384.3;383.1;383.1;41</td>\n",
       "    </tr>\n",
       "    <tr>\n",
       "      <th>2</th>\n",
       "      <td>2004.06.11 09:00;383.1;384.1;382.8;383.1;55</td>\n",
       "    </tr>\n",
       "    <tr>\n",
       "      <th>3</th>\n",
       "      <td>2004.06.11 10:00;383;383.8;383;383.6;33</td>\n",
       "    </tr>\n",
       "    <tr>\n",
       "      <th>4</th>\n",
       "      <td>2004.06.11 11:00;383.6;383.8;383.5;383.6;23</td>\n",
       "    </tr>\n",
       "    <tr>\n",
       "      <th>...</th>\n",
       "      <td>...</td>\n",
       "    </tr>\n",
       "    <tr>\n",
       "      <th>122023</th>\n",
       "      <td>2025.06.06 02:00;3359;3362.58;3357.2;3361.82;1...</td>\n",
       "    </tr>\n",
       "    <tr>\n",
       "      <th>122024</th>\n",
       "      <td>2025.06.06 03:00;3361.81;3364.08;3357.33;3359....</td>\n",
       "    </tr>\n",
       "    <tr>\n",
       "      <th>122025</th>\n",
       "      <td>2025.06.06 04:00;3359.35;3368.53;3356.12;3363....</td>\n",
       "    </tr>\n",
       "    <tr>\n",
       "      <th>122026</th>\n",
       "      <td>2025.06.06 05:00;3363.76;3366.45;3362.04;3363....</td>\n",
       "    </tr>\n",
       "    <tr>\n",
       "      <th>122027</th>\n",
       "      <td>2025.06.06 06:00;3363.88;3369.26;3359.35;3368....</td>\n",
       "    </tr>\n",
       "  </tbody>\n",
       "</table>\n",
       "<p>122028 rows × 1 columns</p>\n",
       "</div>"
      ],
      "text/plain": [
       "                          Date;Open;High;Low;Close;Volume\n",
       "0               2004.06.11 07:00;384;384.3;383.3;383.8;44\n",
       "1             2004.06.11 08:00;383.8;384.3;383.1;383.1;41\n",
       "2             2004.06.11 09:00;383.1;384.1;382.8;383.1;55\n",
       "3                 2004.06.11 10:00;383;383.8;383;383.6;33\n",
       "4             2004.06.11 11:00;383.6;383.8;383.5;383.6;23\n",
       "...                                                   ...\n",
       "122023  2025.06.06 02:00;3359;3362.58;3357.2;3361.82;1...\n",
       "122024  2025.06.06 03:00;3361.81;3364.08;3357.33;3359....\n",
       "122025  2025.06.06 04:00;3359.35;3368.53;3356.12;3363....\n",
       "122026  2025.06.06 05:00;3363.76;3366.45;3362.04;3363....\n",
       "122027  2025.06.06 06:00;3363.88;3369.26;3359.35;3368....\n",
       "\n",
       "[122028 rows x 1 columns]"
      ]
     },
     "execution_count": 4,
     "metadata": {},
     "output_type": "execute_result"
    }
   ],
   "source": [
    "Gold_df2"
   ]
  },
  {
   "cell_type": "code",
   "execution_count": 5,
   "id": "e228ed2d",
   "metadata": {},
   "outputs": [],
   "source": [
    "# Load the data (assuming it's in a CSV file with no header)\n",
    "df1 = pd.read_csv('XAU_1d_data.csv', header=None, names=['Raw1'])\n",
    "df2 = pd.read_csv('XAU_1h_data.csv', header=None, names=['Raw2'])"
   ]
  },
  {
   "cell_type": "code",
   "execution_count": 6,
   "id": "6b6447f5",
   "metadata": {},
   "outputs": [
    {
     "data": {
      "text/html": [
       "<div>\n",
       "<style scoped>\n",
       "    .dataframe tbody tr th:only-of-type {\n",
       "        vertical-align: middle;\n",
       "    }\n",
       "\n",
       "    .dataframe tbody tr th {\n",
       "        vertical-align: top;\n",
       "    }\n",
       "\n",
       "    .dataframe thead th {\n",
       "        text-align: right;\n",
       "    }\n",
       "</style>\n",
       "<table border=\"1\" class=\"dataframe\">\n",
       "  <thead>\n",
       "    <tr style=\"text-align: right;\">\n",
       "      <th></th>\n",
       "      <th>Raw1</th>\n",
       "    </tr>\n",
       "  </thead>\n",
       "  <tbody>\n",
       "    <tr>\n",
       "      <th>0</th>\n",
       "      <td>Date;Open;High;Low;Close;Volume</td>\n",
       "    </tr>\n",
       "    <tr>\n",
       "      <th>1</th>\n",
       "      <td>2004.06.11 00:00;384;384.8;382.8;384.1;272</td>\n",
       "    </tr>\n",
       "    <tr>\n",
       "      <th>2</th>\n",
       "      <td>2004.06.14 00:00;384.3;385.8;381.8;382.8;1902</td>\n",
       "    </tr>\n",
       "    <tr>\n",
       "      <th>3</th>\n",
       "      <td>2004.06.15 00:00;382.8;388.8;381.1;388.6;1951</td>\n",
       "    </tr>\n",
       "    <tr>\n",
       "      <th>4</th>\n",
       "      <td>2004.06.16 00:00;387.1;389.8;382.6;383.8;2014</td>\n",
       "    </tr>\n",
       "    <tr>\n",
       "      <th>...</th>\n",
       "      <td>...</td>\n",
       "    </tr>\n",
       "    <tr>\n",
       "      <th>5387</th>\n",
       "      <td>2025.06.02 00:00;3298.76;3382.86;3295.75;3380....</td>\n",
       "    </tr>\n",
       "    <tr>\n",
       "      <th>5388</th>\n",
       "      <td>2025.06.03 00:00;3383.51;3392.19;3333.08;3352....</td>\n",
       "    </tr>\n",
       "    <tr>\n",
       "      <th>5389</th>\n",
       "      <td>2025.06.04 00:00;3353.93;3384.64;3343.67;3372....</td>\n",
       "    </tr>\n",
       "    <tr>\n",
       "      <th>5390</th>\n",
       "      <td>2025.06.05 00:00;3373.34;3403.42;3339.43;3351....</td>\n",
       "    </tr>\n",
       "    <tr>\n",
       "      <th>5391</th>\n",
       "      <td>2025.06.06 00:00;3353.55;3369.26;3353;3368.94;...</td>\n",
       "    </tr>\n",
       "  </tbody>\n",
       "</table>\n",
       "<p>5392 rows × 1 columns</p>\n",
       "</div>"
      ],
      "text/plain": [
       "                                                   Raw1\n",
       "0                       Date;Open;High;Low;Close;Volume\n",
       "1            2004.06.11 00:00;384;384.8;382.8;384.1;272\n",
       "2         2004.06.14 00:00;384.3;385.8;381.8;382.8;1902\n",
       "3         2004.06.15 00:00;382.8;388.8;381.1;388.6;1951\n",
       "4         2004.06.16 00:00;387.1;389.8;382.6;383.8;2014\n",
       "...                                                 ...\n",
       "5387  2025.06.02 00:00;3298.76;3382.86;3295.75;3380....\n",
       "5388  2025.06.03 00:00;3383.51;3392.19;3333.08;3352....\n",
       "5389  2025.06.04 00:00;3353.93;3384.64;3343.67;3372....\n",
       "5390  2025.06.05 00:00;3373.34;3403.42;3339.43;3351....\n",
       "5391  2025.06.06 00:00;3353.55;3369.26;3353;3368.94;...\n",
       "\n",
       "[5392 rows x 1 columns]"
      ]
     },
     "execution_count": 6,
     "metadata": {},
     "output_type": "execute_result"
    }
   ],
   "source": [
    "df1"
   ]
  },
  {
   "cell_type": "code",
   "execution_count": 7,
   "id": "2945c613",
   "metadata": {},
   "outputs": [
    {
     "data": {
      "text/html": [
       "<div>\n",
       "<style scoped>\n",
       "    .dataframe tbody tr th:only-of-type {\n",
       "        vertical-align: middle;\n",
       "    }\n",
       "\n",
       "    .dataframe tbody tr th {\n",
       "        vertical-align: top;\n",
       "    }\n",
       "\n",
       "    .dataframe thead th {\n",
       "        text-align: right;\n",
       "    }\n",
       "</style>\n",
       "<table border=\"1\" class=\"dataframe\">\n",
       "  <thead>\n",
       "    <tr style=\"text-align: right;\">\n",
       "      <th></th>\n",
       "      <th>Raw2</th>\n",
       "    </tr>\n",
       "  </thead>\n",
       "  <tbody>\n",
       "    <tr>\n",
       "      <th>0</th>\n",
       "      <td>Date;Open;High;Low;Close;Volume</td>\n",
       "    </tr>\n",
       "    <tr>\n",
       "      <th>1</th>\n",
       "      <td>2004.06.11 07:00;384;384.3;383.3;383.8;44</td>\n",
       "    </tr>\n",
       "    <tr>\n",
       "      <th>2</th>\n",
       "      <td>2004.06.11 08:00;383.8;384.3;383.1;383.1;41</td>\n",
       "    </tr>\n",
       "    <tr>\n",
       "      <th>3</th>\n",
       "      <td>2004.06.11 09:00;383.1;384.1;382.8;383.1;55</td>\n",
       "    </tr>\n",
       "    <tr>\n",
       "      <th>4</th>\n",
       "      <td>2004.06.11 10:00;383;383.8;383;383.6;33</td>\n",
       "    </tr>\n",
       "    <tr>\n",
       "      <th>...</th>\n",
       "      <td>...</td>\n",
       "    </tr>\n",
       "    <tr>\n",
       "      <th>122024</th>\n",
       "      <td>2025.06.06 02:00;3359;3362.58;3357.2;3361.82;1...</td>\n",
       "    </tr>\n",
       "    <tr>\n",
       "      <th>122025</th>\n",
       "      <td>2025.06.06 03:00;3361.81;3364.08;3357.33;3359....</td>\n",
       "    </tr>\n",
       "    <tr>\n",
       "      <th>122026</th>\n",
       "      <td>2025.06.06 04:00;3359.35;3368.53;3356.12;3363....</td>\n",
       "    </tr>\n",
       "    <tr>\n",
       "      <th>122027</th>\n",
       "      <td>2025.06.06 05:00;3363.76;3366.45;3362.04;3363....</td>\n",
       "    </tr>\n",
       "    <tr>\n",
       "      <th>122028</th>\n",
       "      <td>2025.06.06 06:00;3363.88;3369.26;3359.35;3368....</td>\n",
       "    </tr>\n",
       "  </tbody>\n",
       "</table>\n",
       "<p>122029 rows × 1 columns</p>\n",
       "</div>"
      ],
      "text/plain": [
       "                                                     Raw2\n",
       "0                         Date;Open;High;Low;Close;Volume\n",
       "1               2004.06.11 07:00;384;384.3;383.3;383.8;44\n",
       "2             2004.06.11 08:00;383.8;384.3;383.1;383.1;41\n",
       "3             2004.06.11 09:00;383.1;384.1;382.8;383.1;55\n",
       "4                 2004.06.11 10:00;383;383.8;383;383.6;33\n",
       "...                                                   ...\n",
       "122024  2025.06.06 02:00;3359;3362.58;3357.2;3361.82;1...\n",
       "122025  2025.06.06 03:00;3361.81;3364.08;3357.33;3359....\n",
       "122026  2025.06.06 04:00;3359.35;3368.53;3356.12;3363....\n",
       "122027  2025.06.06 05:00;3363.76;3366.45;3362.04;3363....\n",
       "122028  2025.06.06 06:00;3363.88;3369.26;3359.35;3368....\n",
       "\n",
       "[122029 rows x 1 columns]"
      ]
     },
     "execution_count": 7,
     "metadata": {},
     "output_type": "execute_result"
    }
   ],
   "source": [
    "df2"
   ]
  },
  {
   "cell_type": "code",
   "execution_count": 8,
   "id": "8324f895",
   "metadata": {},
   "outputs": [],
   "source": [
    "# Split the 'Raw' column by semicolon and expand into new columns\n",
    "df_split1 = df1['Raw1'].str.split(';', expand=True)\n",
    "df_split2 = df2['Raw2'].str.split(';', expand=True)"
   ]
  },
  {
   "cell_type": "code",
   "execution_count": 9,
   "id": "d849e5c5",
   "metadata": {},
   "outputs": [
    {
     "data": {
      "text/html": [
       "<div>\n",
       "<style scoped>\n",
       "    .dataframe tbody tr th:only-of-type {\n",
       "        vertical-align: middle;\n",
       "    }\n",
       "\n",
       "    .dataframe tbody tr th {\n",
       "        vertical-align: top;\n",
       "    }\n",
       "\n",
       "    .dataframe thead th {\n",
       "        text-align: right;\n",
       "    }\n",
       "</style>\n",
       "<table border=\"1\" class=\"dataframe\">\n",
       "  <thead>\n",
       "    <tr style=\"text-align: right;\">\n",
       "      <th></th>\n",
       "      <th>0</th>\n",
       "      <th>1</th>\n",
       "      <th>2</th>\n",
       "      <th>3</th>\n",
       "      <th>4</th>\n",
       "      <th>5</th>\n",
       "    </tr>\n",
       "  </thead>\n",
       "  <tbody>\n",
       "    <tr>\n",
       "      <th>0</th>\n",
       "      <td>Date</td>\n",
       "      <td>Open</td>\n",
       "      <td>High</td>\n",
       "      <td>Low</td>\n",
       "      <td>Close</td>\n",
       "      <td>Volume</td>\n",
       "    </tr>\n",
       "    <tr>\n",
       "      <th>1</th>\n",
       "      <td>2004.06.11 00:00</td>\n",
       "      <td>384</td>\n",
       "      <td>384.8</td>\n",
       "      <td>382.8</td>\n",
       "      <td>384.1</td>\n",
       "      <td>272</td>\n",
       "    </tr>\n",
       "    <tr>\n",
       "      <th>2</th>\n",
       "      <td>2004.06.14 00:00</td>\n",
       "      <td>384.3</td>\n",
       "      <td>385.8</td>\n",
       "      <td>381.8</td>\n",
       "      <td>382.8</td>\n",
       "      <td>1902</td>\n",
       "    </tr>\n",
       "    <tr>\n",
       "      <th>3</th>\n",
       "      <td>2004.06.15 00:00</td>\n",
       "      <td>382.8</td>\n",
       "      <td>388.8</td>\n",
       "      <td>381.1</td>\n",
       "      <td>388.6</td>\n",
       "      <td>1951</td>\n",
       "    </tr>\n",
       "    <tr>\n",
       "      <th>4</th>\n",
       "      <td>2004.06.16 00:00</td>\n",
       "      <td>387.1</td>\n",
       "      <td>389.8</td>\n",
       "      <td>382.6</td>\n",
       "      <td>383.8</td>\n",
       "      <td>2014</td>\n",
       "    </tr>\n",
       "    <tr>\n",
       "      <th>...</th>\n",
       "      <td>...</td>\n",
       "      <td>...</td>\n",
       "      <td>...</td>\n",
       "      <td>...</td>\n",
       "      <td>...</td>\n",
       "      <td>...</td>\n",
       "    </tr>\n",
       "    <tr>\n",
       "      <th>5387</th>\n",
       "      <td>2025.06.02 00:00</td>\n",
       "      <td>3298.76</td>\n",
       "      <td>3382.86</td>\n",
       "      <td>3295.75</td>\n",
       "      <td>3380.64</td>\n",
       "      <td>461738</td>\n",
       "    </tr>\n",
       "    <tr>\n",
       "      <th>5388</th>\n",
       "      <td>2025.06.03 00:00</td>\n",
       "      <td>3383.51</td>\n",
       "      <td>3392.19</td>\n",
       "      <td>3333.08</td>\n",
       "      <td>3352.91</td>\n",
       "      <td>436080</td>\n",
       "    </tr>\n",
       "    <tr>\n",
       "      <th>5389</th>\n",
       "      <td>2025.06.04 00:00</td>\n",
       "      <td>3353.93</td>\n",
       "      <td>3384.64</td>\n",
       "      <td>3343.67</td>\n",
       "      <td>3372.25</td>\n",
       "      <td>420245</td>\n",
       "    </tr>\n",
       "    <tr>\n",
       "      <th>5390</th>\n",
       "      <td>2025.06.05 00:00</td>\n",
       "      <td>3373.34</td>\n",
       "      <td>3403.42</td>\n",
       "      <td>3339.43</td>\n",
       "      <td>3351.98</td>\n",
       "      <td>808095</td>\n",
       "    </tr>\n",
       "    <tr>\n",
       "      <th>5391</th>\n",
       "      <td>2025.06.06 00:00</td>\n",
       "      <td>3353.55</td>\n",
       "      <td>3369.26</td>\n",
       "      <td>3353</td>\n",
       "      <td>3368.94</td>\n",
       "      <td>120857</td>\n",
       "    </tr>\n",
       "  </tbody>\n",
       "</table>\n",
       "<p>5392 rows × 6 columns</p>\n",
       "</div>"
      ],
      "text/plain": [
       "                     0        1        2        3        4       5\n",
       "0                 Date     Open     High      Low    Close  Volume\n",
       "1     2004.06.11 00:00      384    384.8    382.8    384.1     272\n",
       "2     2004.06.14 00:00    384.3    385.8    381.8    382.8    1902\n",
       "3     2004.06.15 00:00    382.8    388.8    381.1    388.6    1951\n",
       "4     2004.06.16 00:00    387.1    389.8    382.6    383.8    2014\n",
       "...                ...      ...      ...      ...      ...     ...\n",
       "5387  2025.06.02 00:00  3298.76  3382.86  3295.75  3380.64  461738\n",
       "5388  2025.06.03 00:00  3383.51  3392.19  3333.08  3352.91  436080\n",
       "5389  2025.06.04 00:00  3353.93  3384.64  3343.67  3372.25  420245\n",
       "5390  2025.06.05 00:00  3373.34  3403.42  3339.43  3351.98  808095\n",
       "5391  2025.06.06 00:00  3353.55  3369.26     3353  3368.94  120857\n",
       "\n",
       "[5392 rows x 6 columns]"
      ]
     },
     "execution_count": 9,
     "metadata": {},
     "output_type": "execute_result"
    }
   ],
   "source": [
    "df_split1"
   ]
  },
  {
   "cell_type": "code",
   "execution_count": 10,
   "id": "a115489a",
   "metadata": {},
   "outputs": [
    {
     "data": {
      "text/html": [
       "<div>\n",
       "<style scoped>\n",
       "    .dataframe tbody tr th:only-of-type {\n",
       "        vertical-align: middle;\n",
       "    }\n",
       "\n",
       "    .dataframe tbody tr th {\n",
       "        vertical-align: top;\n",
       "    }\n",
       "\n",
       "    .dataframe thead th {\n",
       "        text-align: right;\n",
       "    }\n",
       "</style>\n",
       "<table border=\"1\" class=\"dataframe\">\n",
       "  <thead>\n",
       "    <tr style=\"text-align: right;\">\n",
       "      <th></th>\n",
       "      <th>0</th>\n",
       "      <th>1</th>\n",
       "      <th>2</th>\n",
       "      <th>3</th>\n",
       "      <th>4</th>\n",
       "      <th>5</th>\n",
       "    </tr>\n",
       "  </thead>\n",
       "  <tbody>\n",
       "    <tr>\n",
       "      <th>0</th>\n",
       "      <td>Date</td>\n",
       "      <td>Open</td>\n",
       "      <td>High</td>\n",
       "      <td>Low</td>\n",
       "      <td>Close</td>\n",
       "      <td>Volume</td>\n",
       "    </tr>\n",
       "    <tr>\n",
       "      <th>1</th>\n",
       "      <td>2004.06.11 07:00</td>\n",
       "      <td>384</td>\n",
       "      <td>384.3</td>\n",
       "      <td>383.3</td>\n",
       "      <td>383.8</td>\n",
       "      <td>44</td>\n",
       "    </tr>\n",
       "    <tr>\n",
       "      <th>2</th>\n",
       "      <td>2004.06.11 08:00</td>\n",
       "      <td>383.8</td>\n",
       "      <td>384.3</td>\n",
       "      <td>383.1</td>\n",
       "      <td>383.1</td>\n",
       "      <td>41</td>\n",
       "    </tr>\n",
       "    <tr>\n",
       "      <th>3</th>\n",
       "      <td>2004.06.11 09:00</td>\n",
       "      <td>383.1</td>\n",
       "      <td>384.1</td>\n",
       "      <td>382.8</td>\n",
       "      <td>383.1</td>\n",
       "      <td>55</td>\n",
       "    </tr>\n",
       "    <tr>\n",
       "      <th>4</th>\n",
       "      <td>2004.06.11 10:00</td>\n",
       "      <td>383</td>\n",
       "      <td>383.8</td>\n",
       "      <td>383</td>\n",
       "      <td>383.6</td>\n",
       "      <td>33</td>\n",
       "    </tr>\n",
       "    <tr>\n",
       "      <th>...</th>\n",
       "      <td>...</td>\n",
       "      <td>...</td>\n",
       "      <td>...</td>\n",
       "      <td>...</td>\n",
       "      <td>...</td>\n",
       "      <td>...</td>\n",
       "    </tr>\n",
       "    <tr>\n",
       "      <th>122024</th>\n",
       "      <td>2025.06.06 02:00</td>\n",
       "      <td>3359</td>\n",
       "      <td>3362.58</td>\n",
       "      <td>3357.2</td>\n",
       "      <td>3361.82</td>\n",
       "      <td>10649</td>\n",
       "    </tr>\n",
       "    <tr>\n",
       "      <th>122025</th>\n",
       "      <td>2025.06.06 03:00</td>\n",
       "      <td>3361.81</td>\n",
       "      <td>3364.08</td>\n",
       "      <td>3357.33</td>\n",
       "      <td>3359.34</td>\n",
       "      <td>21746</td>\n",
       "    </tr>\n",
       "    <tr>\n",
       "      <th>122026</th>\n",
       "      <td>2025.06.06 04:00</td>\n",
       "      <td>3359.35</td>\n",
       "      <td>3368.53</td>\n",
       "      <td>3356.12</td>\n",
       "      <td>3363.77</td>\n",
       "      <td>39028</td>\n",
       "    </tr>\n",
       "    <tr>\n",
       "      <th>122027</th>\n",
       "      <td>2025.06.06 05:00</td>\n",
       "      <td>3363.76</td>\n",
       "      <td>3366.45</td>\n",
       "      <td>3362.04</td>\n",
       "      <td>3363.9</td>\n",
       "      <td>25151</td>\n",
       "    </tr>\n",
       "    <tr>\n",
       "      <th>122028</th>\n",
       "      <td>2025.06.06 06:00</td>\n",
       "      <td>3363.88</td>\n",
       "      <td>3369.26</td>\n",
       "      <td>3359.35</td>\n",
       "      <td>3368.94</td>\n",
       "      <td>15458</td>\n",
       "    </tr>\n",
       "  </tbody>\n",
       "</table>\n",
       "<p>122029 rows × 6 columns</p>\n",
       "</div>"
      ],
      "text/plain": [
       "                       0        1        2        3        4       5\n",
       "0                   Date     Open     High      Low    Close  Volume\n",
       "1       2004.06.11 07:00      384    384.3    383.3    383.8      44\n",
       "2       2004.06.11 08:00    383.8    384.3    383.1    383.1      41\n",
       "3       2004.06.11 09:00    383.1    384.1    382.8    383.1      55\n",
       "4       2004.06.11 10:00      383    383.8      383    383.6      33\n",
       "...                  ...      ...      ...      ...      ...     ...\n",
       "122024  2025.06.06 02:00     3359  3362.58   3357.2  3361.82   10649\n",
       "122025  2025.06.06 03:00  3361.81  3364.08  3357.33  3359.34   21746\n",
       "122026  2025.06.06 04:00  3359.35  3368.53  3356.12  3363.77   39028\n",
       "122027  2025.06.06 05:00  3363.76  3366.45  3362.04   3363.9   25151\n",
       "122028  2025.06.06 06:00  3363.88  3369.26  3359.35  3368.94   15458\n",
       "\n",
       "[122029 rows x 6 columns]"
      ]
     },
     "execution_count": 10,
     "metadata": {},
     "output_type": "execute_result"
    }
   ],
   "source": [
    "df_split2"
   ]
  },
  {
   "cell_type": "code",
   "execution_count": 11,
   "id": "1d902ffd",
   "metadata": {},
   "outputs": [],
   "source": [
    "# Rename columns appropriately\n",
    "df_split1.columns = ['Date', 'Open', 'High', 'Low', 'Close', 'Volume']\n",
    "df_split2.columns = ['Date', 'Open', 'High', 'Low', 'Close', 'Volume']"
   ]
  },
  {
   "cell_type": "code",
   "execution_count": 12,
   "id": "f0791c92",
   "metadata": {},
   "outputs": [],
   "source": [
    "# Convert numeric columns to appropriate data types\n",
    "numeric_cols1 = ['Open', 'High', 'Low', 'Close', 'Volume']\n",
    "df_split1[numeric_cols1] = df_split1[numeric_cols1].apply(pd.to_numeric, errors='coerce')\n",
    "\n",
    "numeric_cols2 = ['Open', 'High', 'Low', 'Close', 'Volume']\n",
    "df_split2[numeric_cols2] = df_split2[numeric_cols2].apply(pd.to_numeric, errors='coerce')"
   ]
  },
  {
   "cell_type": "code",
   "execution_count": 13,
   "id": "817ae5b5",
   "metadata": {},
   "outputs": [
    {
     "data": {
      "text/html": [
       "<div>\n",
       "<style scoped>\n",
       "    .dataframe tbody tr th:only-of-type {\n",
       "        vertical-align: middle;\n",
       "    }\n",
       "\n",
       "    .dataframe tbody tr th {\n",
       "        vertical-align: top;\n",
       "    }\n",
       "\n",
       "    .dataframe thead th {\n",
       "        text-align: right;\n",
       "    }\n",
       "</style>\n",
       "<table border=\"1\" class=\"dataframe\">\n",
       "  <thead>\n",
       "    <tr style=\"text-align: right;\">\n",
       "      <th></th>\n",
       "      <th>Date</th>\n",
       "      <th>Open</th>\n",
       "      <th>High</th>\n",
       "      <th>Low</th>\n",
       "      <th>Close</th>\n",
       "      <th>Volume</th>\n",
       "    </tr>\n",
       "  </thead>\n",
       "  <tbody>\n",
       "    <tr>\n",
       "      <th>0</th>\n",
       "      <td>Date</td>\n",
       "      <td>NaN</td>\n",
       "      <td>NaN</td>\n",
       "      <td>NaN</td>\n",
       "      <td>NaN</td>\n",
       "      <td>NaN</td>\n",
       "    </tr>\n",
       "    <tr>\n",
       "      <th>1</th>\n",
       "      <td>2004.06.11 00:00</td>\n",
       "      <td>384.0</td>\n",
       "      <td>384.8</td>\n",
       "      <td>382.8</td>\n",
       "      <td>384.1</td>\n",
       "      <td>272.0</td>\n",
       "    </tr>\n",
       "    <tr>\n",
       "      <th>2</th>\n",
       "      <td>2004.06.14 00:00</td>\n",
       "      <td>384.3</td>\n",
       "      <td>385.8</td>\n",
       "      <td>381.8</td>\n",
       "      <td>382.8</td>\n",
       "      <td>1902.0</td>\n",
       "    </tr>\n",
       "    <tr>\n",
       "      <th>3</th>\n",
       "      <td>2004.06.15 00:00</td>\n",
       "      <td>382.8</td>\n",
       "      <td>388.8</td>\n",
       "      <td>381.1</td>\n",
       "      <td>388.6</td>\n",
       "      <td>1951.0</td>\n",
       "    </tr>\n",
       "    <tr>\n",
       "      <th>4</th>\n",
       "      <td>2004.06.16 00:00</td>\n",
       "      <td>387.1</td>\n",
       "      <td>389.8</td>\n",
       "      <td>382.6</td>\n",
       "      <td>383.8</td>\n",
       "      <td>2014.0</td>\n",
       "    </tr>\n",
       "  </tbody>\n",
       "</table>\n",
       "</div>"
      ],
      "text/plain": [
       "               Date   Open   High    Low  Close  Volume\n",
       "0              Date    NaN    NaN    NaN    NaN     NaN\n",
       "1  2004.06.11 00:00  384.0  384.8  382.8  384.1   272.0\n",
       "2  2004.06.14 00:00  384.3  385.8  381.8  382.8  1902.0\n",
       "3  2004.06.15 00:00  382.8  388.8  381.1  388.6  1951.0\n",
       "4  2004.06.16 00:00  387.1  389.8  382.6  383.8  2014.0"
      ]
     },
     "execution_count": 13,
     "metadata": {},
     "output_type": "execute_result"
    }
   ],
   "source": [
    "df_split1.head()"
   ]
  },
  {
   "cell_type": "code",
   "execution_count": 14,
   "id": "58e0d49e",
   "metadata": {},
   "outputs": [
    {
     "data": {
      "text/html": [
       "<div>\n",
       "<style scoped>\n",
       "    .dataframe tbody tr th:only-of-type {\n",
       "        vertical-align: middle;\n",
       "    }\n",
       "\n",
       "    .dataframe tbody tr th {\n",
       "        vertical-align: top;\n",
       "    }\n",
       "\n",
       "    .dataframe thead th {\n",
       "        text-align: right;\n",
       "    }\n",
       "</style>\n",
       "<table border=\"1\" class=\"dataframe\">\n",
       "  <thead>\n",
       "    <tr style=\"text-align: right;\">\n",
       "      <th></th>\n",
       "      <th>Date</th>\n",
       "      <th>Open</th>\n",
       "      <th>High</th>\n",
       "      <th>Low</th>\n",
       "      <th>Close</th>\n",
       "      <th>Volume</th>\n",
       "    </tr>\n",
       "  </thead>\n",
       "  <tbody>\n",
       "    <tr>\n",
       "      <th>0</th>\n",
       "      <td>Date</td>\n",
       "      <td>NaN</td>\n",
       "      <td>NaN</td>\n",
       "      <td>NaN</td>\n",
       "      <td>NaN</td>\n",
       "      <td>NaN</td>\n",
       "    </tr>\n",
       "    <tr>\n",
       "      <th>1</th>\n",
       "      <td>2004.06.11 07:00</td>\n",
       "      <td>384.0</td>\n",
       "      <td>384.3</td>\n",
       "      <td>383.3</td>\n",
       "      <td>383.8</td>\n",
       "      <td>44.0</td>\n",
       "    </tr>\n",
       "    <tr>\n",
       "      <th>2</th>\n",
       "      <td>2004.06.11 08:00</td>\n",
       "      <td>383.8</td>\n",
       "      <td>384.3</td>\n",
       "      <td>383.1</td>\n",
       "      <td>383.1</td>\n",
       "      <td>41.0</td>\n",
       "    </tr>\n",
       "    <tr>\n",
       "      <th>3</th>\n",
       "      <td>2004.06.11 09:00</td>\n",
       "      <td>383.1</td>\n",
       "      <td>384.1</td>\n",
       "      <td>382.8</td>\n",
       "      <td>383.1</td>\n",
       "      <td>55.0</td>\n",
       "    </tr>\n",
       "    <tr>\n",
       "      <th>4</th>\n",
       "      <td>2004.06.11 10:00</td>\n",
       "      <td>383.0</td>\n",
       "      <td>383.8</td>\n",
       "      <td>383.0</td>\n",
       "      <td>383.6</td>\n",
       "      <td>33.0</td>\n",
       "    </tr>\n",
       "  </tbody>\n",
       "</table>\n",
       "</div>"
      ],
      "text/plain": [
       "               Date   Open   High    Low  Close  Volume\n",
       "0              Date    NaN    NaN    NaN    NaN     NaN\n",
       "1  2004.06.11 07:00  384.0  384.3  383.3  383.8    44.0\n",
       "2  2004.06.11 08:00  383.8  384.3  383.1  383.1    41.0\n",
       "3  2004.06.11 09:00  383.1  384.1  382.8  383.1    55.0\n",
       "4  2004.06.11 10:00  383.0  383.8  383.0  383.6    33.0"
      ]
     },
     "execution_count": 14,
     "metadata": {},
     "output_type": "execute_result"
    }
   ],
   "source": [
    "df_split2.head()"
   ]
  },
  {
   "cell_type": "code",
   "execution_count": 15,
   "id": "ab67047a",
   "metadata": {},
   "outputs": [
    {
     "data": {
      "text/html": [
       "<div>\n",
       "<style scoped>\n",
       "    .dataframe tbody tr th:only-of-type {\n",
       "        vertical-align: middle;\n",
       "    }\n",
       "\n",
       "    .dataframe tbody tr th {\n",
       "        vertical-align: top;\n",
       "    }\n",
       "\n",
       "    .dataframe thead th {\n",
       "        text-align: right;\n",
       "    }\n",
       "</style>\n",
       "<table border=\"1\" class=\"dataframe\">\n",
       "  <thead>\n",
       "    <tr style=\"text-align: right;\">\n",
       "      <th></th>\n",
       "      <th>Date</th>\n",
       "      <th>Open</th>\n",
       "      <th>High</th>\n",
       "      <th>Low</th>\n",
       "      <th>Close</th>\n",
       "      <th>Volume</th>\n",
       "    </tr>\n",
       "  </thead>\n",
       "  <tbody>\n",
       "    <tr>\n",
       "      <th>5387</th>\n",
       "      <td>2025.06.02 00:00</td>\n",
       "      <td>3298.76</td>\n",
       "      <td>3382.86</td>\n",
       "      <td>3295.75</td>\n",
       "      <td>3380.64</td>\n",
       "      <td>461738.0</td>\n",
       "    </tr>\n",
       "    <tr>\n",
       "      <th>5388</th>\n",
       "      <td>2025.06.03 00:00</td>\n",
       "      <td>3383.51</td>\n",
       "      <td>3392.19</td>\n",
       "      <td>3333.08</td>\n",
       "      <td>3352.91</td>\n",
       "      <td>436080.0</td>\n",
       "    </tr>\n",
       "    <tr>\n",
       "      <th>5389</th>\n",
       "      <td>2025.06.04 00:00</td>\n",
       "      <td>3353.93</td>\n",
       "      <td>3384.64</td>\n",
       "      <td>3343.67</td>\n",
       "      <td>3372.25</td>\n",
       "      <td>420245.0</td>\n",
       "    </tr>\n",
       "    <tr>\n",
       "      <th>5390</th>\n",
       "      <td>2025.06.05 00:00</td>\n",
       "      <td>3373.34</td>\n",
       "      <td>3403.42</td>\n",
       "      <td>3339.43</td>\n",
       "      <td>3351.98</td>\n",
       "      <td>808095.0</td>\n",
       "    </tr>\n",
       "    <tr>\n",
       "      <th>5391</th>\n",
       "      <td>2025.06.06 00:00</td>\n",
       "      <td>3353.55</td>\n",
       "      <td>3369.26</td>\n",
       "      <td>3353.00</td>\n",
       "      <td>3368.94</td>\n",
       "      <td>120857.0</td>\n",
       "    </tr>\n",
       "  </tbody>\n",
       "</table>\n",
       "</div>"
      ],
      "text/plain": [
       "                  Date     Open     High      Low    Close    Volume\n",
       "5387  2025.06.02 00:00  3298.76  3382.86  3295.75  3380.64  461738.0\n",
       "5388  2025.06.03 00:00  3383.51  3392.19  3333.08  3352.91  436080.0\n",
       "5389  2025.06.04 00:00  3353.93  3384.64  3343.67  3372.25  420245.0\n",
       "5390  2025.06.05 00:00  3373.34  3403.42  3339.43  3351.98  808095.0\n",
       "5391  2025.06.06 00:00  3353.55  3369.26  3353.00  3368.94  120857.0"
      ]
     },
     "execution_count": 15,
     "metadata": {},
     "output_type": "execute_result"
    }
   ],
   "source": [
    "df_split1.tail()"
   ]
  },
  {
   "cell_type": "code",
   "execution_count": 16,
   "id": "7c8c7a85",
   "metadata": {},
   "outputs": [
    {
     "data": {
      "text/html": [
       "<div>\n",
       "<style scoped>\n",
       "    .dataframe tbody tr th:only-of-type {\n",
       "        vertical-align: middle;\n",
       "    }\n",
       "\n",
       "    .dataframe tbody tr th {\n",
       "        vertical-align: top;\n",
       "    }\n",
       "\n",
       "    .dataframe thead th {\n",
       "        text-align: right;\n",
       "    }\n",
       "</style>\n",
       "<table border=\"1\" class=\"dataframe\">\n",
       "  <thead>\n",
       "    <tr style=\"text-align: right;\">\n",
       "      <th></th>\n",
       "      <th>Date</th>\n",
       "      <th>Open</th>\n",
       "      <th>High</th>\n",
       "      <th>Low</th>\n",
       "      <th>Close</th>\n",
       "      <th>Volume</th>\n",
       "    </tr>\n",
       "  </thead>\n",
       "  <tbody>\n",
       "    <tr>\n",
       "      <th>122024</th>\n",
       "      <td>2025.06.06 02:00</td>\n",
       "      <td>3359.00</td>\n",
       "      <td>3362.58</td>\n",
       "      <td>3357.20</td>\n",
       "      <td>3361.82</td>\n",
       "      <td>10649.0</td>\n",
       "    </tr>\n",
       "    <tr>\n",
       "      <th>122025</th>\n",
       "      <td>2025.06.06 03:00</td>\n",
       "      <td>3361.81</td>\n",
       "      <td>3364.08</td>\n",
       "      <td>3357.33</td>\n",
       "      <td>3359.34</td>\n",
       "      <td>21746.0</td>\n",
       "    </tr>\n",
       "    <tr>\n",
       "      <th>122026</th>\n",
       "      <td>2025.06.06 04:00</td>\n",
       "      <td>3359.35</td>\n",
       "      <td>3368.53</td>\n",
       "      <td>3356.12</td>\n",
       "      <td>3363.77</td>\n",
       "      <td>39028.0</td>\n",
       "    </tr>\n",
       "    <tr>\n",
       "      <th>122027</th>\n",
       "      <td>2025.06.06 05:00</td>\n",
       "      <td>3363.76</td>\n",
       "      <td>3366.45</td>\n",
       "      <td>3362.04</td>\n",
       "      <td>3363.90</td>\n",
       "      <td>25151.0</td>\n",
       "    </tr>\n",
       "    <tr>\n",
       "      <th>122028</th>\n",
       "      <td>2025.06.06 06:00</td>\n",
       "      <td>3363.88</td>\n",
       "      <td>3369.26</td>\n",
       "      <td>3359.35</td>\n",
       "      <td>3368.94</td>\n",
       "      <td>15458.0</td>\n",
       "    </tr>\n",
       "  </tbody>\n",
       "</table>\n",
       "</div>"
      ],
      "text/plain": [
       "                    Date     Open     High      Low    Close   Volume\n",
       "122024  2025.06.06 02:00  3359.00  3362.58  3357.20  3361.82  10649.0\n",
       "122025  2025.06.06 03:00  3361.81  3364.08  3357.33  3359.34  21746.0\n",
       "122026  2025.06.06 04:00  3359.35  3368.53  3356.12  3363.77  39028.0\n",
       "122027  2025.06.06 05:00  3363.76  3366.45  3362.04  3363.90  25151.0\n",
       "122028  2025.06.06 06:00  3363.88  3369.26  3359.35  3368.94  15458.0"
      ]
     },
     "execution_count": 16,
     "metadata": {},
     "output_type": "execute_result"
    }
   ],
   "source": [
    "df_split2.tail()"
   ]
  },
  {
   "cell_type": "code",
   "execution_count": 17,
   "id": "3285abc0",
   "metadata": {},
   "outputs": [
    {
     "name": "stdout",
     "output_type": "stream",
     "text": [
      "<class 'pandas.core.frame.DataFrame'>\n",
      "RangeIndex: 5392 entries, 0 to 5391\n",
      "Data columns (total 6 columns):\n",
      " #   Column  Non-Null Count  Dtype  \n",
      "---  ------  --------------  -----  \n",
      " 0   Date    5392 non-null   object \n",
      " 1   Open    5391 non-null   float64\n",
      " 2   High    5391 non-null   float64\n",
      " 3   Low     5391 non-null   float64\n",
      " 4   Close   5391 non-null   float64\n",
      " 5   Volume  5391 non-null   float64\n",
      "dtypes: float64(5), object(1)\n",
      "memory usage: 252.9+ KB\n",
      "<class 'pandas.core.frame.DataFrame'>\n",
      "RangeIndex: 122029 entries, 0 to 122028\n",
      "Data columns (total 6 columns):\n",
      " #   Column  Non-Null Count   Dtype  \n",
      "---  ------  --------------   -----  \n",
      " 0   Date    122029 non-null  object \n",
      " 1   Open    122028 non-null  float64\n",
      " 2   High    122028 non-null  float64\n",
      " 3   Low     122028 non-null  float64\n",
      " 4   Close   122028 non-null  float64\n",
      " 5   Volume  122028 non-null  float64\n",
      "dtypes: float64(5), object(1)\n",
      "memory usage: 5.6+ MB\n"
     ]
    }
   ],
   "source": [
    "df_split1.info()\n",
    "df_split2.info()"
   ]
  },
  {
   "cell_type": "markdown",
   "id": "d2e4f5b1",
   "metadata": {},
   "source": [
    "# Data Visualization"
   ]
  },
  {
   "cell_type": "code",
   "execution_count": 18,
   "id": "5b544412",
   "metadata": {},
   "outputs": [
    {
     "data": {
      "image/png": "[encoded data removed]",
      "text/plain": [
       "<Figure size 1200x600 with 1 Axes>"
      ]
     },
     "metadata": {},
     "output_type": "display_data"
    }
   ],
   "source": [
    "import pandas as pd\n",
    "import matplotlib.pyplot as plt\n",
    "\n",
    "# Example: If your file is already split into columns like you showed earlier\n",
    "# Step 1: Remove the first row which contains column names as a string\n",
    "df = df_split1.iloc[1:].copy()\n",
    "\n",
    "# Step 2: Reset index\n",
    "df.reset_index(drop=True, inplace=True)\n",
    "\n",
    "# Step 3: Assign proper column names (optional if already correct)\n",
    "df.columns = ['Date', 'Open', 'High', 'Low', 'Close', 'Volume']\n",
    "\n",
    "# Step 4: Convert data types\n",
    "df['Date'] = pd.to_datetime(df['Date'], format='%Y.%m.%d %H:%M', errors='coerce')\n",
    "\n",
    "# Optional: Convert numeric columns (if not already float)\n",
    "cols = ['Open', 'High', 'Low', 'Close', 'Volume']\n",
    "df[cols] = df[cols].apply(pd.to_numeric, errors='coerce')\n",
    "\n",
    "# Step 5: Drop any rows with missing data (including bad dates)\n",
    "df = df.dropna().reset_index(drop=True)\n",
    "\n",
    "# ✅ Sample Plot: Closing Prices of Last 10 Days with Labels\n",
    "df_sample = df.tail(10)\n",
    "\n",
    "plt.figure(figsize=(12, 6))\n",
    "plt.plot(df_sample['Date'], df_sample['Close'], marker='o', color='blue')\n",
    "\n",
    "for i in range(len(df_sample)):\n",
    "    plt.text(df_sample['Date'].iloc[i], \n",
    "             df_sample['Close'].iloc[i] + 2, \n",
    "             f\"{df_sample['Close'].iloc[i]:.2f}\", \n",
    "             ha='center', fontsize=9)\n",
    "\n",
    "plt.title(\"Closing Price - Last 10 Days\")\n",
    "plt.xlabel(\"Date\")\n",
    "plt.ylabel(\"Close Price\")\n",
    "plt.xticks(rotation=45)\n",
    "plt.grid(True)\n",
    "plt.tight_layout()\n",
    "plt.show()"
   ]
  },
  {
   "cell_type": "markdown",
   "id": "bf78cbb5",
   "metadata": {},
   "source": [
    "# STEP 1: Clean and Prepare the Data"
   ]
  },
  {
   "cell_type": "markdown",
   "id": "29090263",
   "metadata": {},
   "source": [
    "+  Tasks:\n",
    "+ Convert Date to datetime\n",
    "\n",
    "+ Handle missing values\n",
    "\n",
    "+ Ensure correct types for numerical columns"
   ]
  },
  {
   "cell_type": "code",
   "execution_count": 19,
   "id": "a6ee13ed",
   "metadata": {},
   "outputs": [],
   "source": [
    "import pandas as pd\n",
    "\n",
    "df['Date'] = pd.to_datetime(df['Date'], errors='coerce')\n",
    "df = df.dropna().reset_index(drop=True)"
   ]
  },
  {
   "cell_type": "markdown",
   "id": "d8ddf43f",
   "metadata": {},
   "source": [
    "#  STEP 2: Feature Engineering"
   ]
  },
  {
   "cell_type": "code",
   "execution_count": 20,
   "id": "62961fd9",
   "metadata": {},
   "outputs": [],
   "source": [
    "# Date-based features\n",
    "df['Year'] = df['Date'].dt.year\n",
    "df['Month'] = df['Date'].dt.month\n",
    "df['Day'] = df['Date'].dt.day\n",
    "df['Weekday'] = df['Date'].dt.weekday"
   ]
  },
  {
   "cell_type": "code",
   "execution_count": 21,
   "id": "96198776",
   "metadata": {},
   "outputs": [],
   "source": [
    "# Moving averages\n",
    "df['MA_5'] = df['Close'].rolling(window=5).mean()\n",
    "df['MA_20'] = df['Close'].rolling(window=20).mean()\n",
    "df['Return'] = df['Close'].pct_change()\n",
    "df = df.dropna()"
   ]
  },
  {
   "cell_type": "markdown",
   "id": "bb30180d",
   "metadata": {},
   "source": [
    "# ✅ STEP 3: Define Target Variable\n",
    "# 📌 Goal 1: Predict whether stock will go up or down"
   ]
  },
  {
   "cell_type": "code",
   "execution_count": 22,
   "id": "6c0d569b",
   "metadata": {},
   "outputs": [],
   "source": [
    "#Create a classification target:\n",
    "df['Target'] = (df['Close'].shift(-1) > df['Close']).astype(int)"
   ]
  },
  {
   "cell_type": "markdown",
   "id": "6f93b935",
   "metadata": {},
   "source": [
    "# 📌 Goal 2: Predict future closing price"
   ]
  },
  {
   "cell_type": "code",
   "execution_count": 23,
   "id": "a2eb7324",
   "metadata": {},
   "outputs": [],
   "source": [
    "#Use regression target:\n",
    "df['Target'] = df['Close'].shift(-1)"
   ]
  },
  {
   "cell_type": "markdown",
   "id": "9909d460",
   "metadata": {},
   "source": [
    "# ✅ STEP 4: Split Data for ML"
   ]
  },
  {
   "cell_type": "code",
   "execution_count": 24,
   "id": "e4d3afc3",
   "metadata": {},
   "outputs": [],
   "source": [
    "from sklearn.model_selection import train_test_split\n",
    "\n",
    "features = ['Open', 'High', 'Low', 'Close', 'Volume', 'MA_5', 'MA_20', 'Return']\n",
    "X = df[features]\n",
    "y = df['Target']\n",
    "\n",
    "X_train, X_test, y_train, y_test = train_test_split(X, y, test_size=0.2, shuffle=False)"
   ]
  },
  {
   "cell_type": "markdown",
   "id": "33367ba1",
   "metadata": {},
   "source": [
    "# ✅ STEP 5: Choose ML Model"
   ]
  },
  {
   "cell_type": "markdown",
   "id": "256f8e43",
   "metadata": {},
   "source": [
    "#### Prepare Features and Target"
   ]
  },
  {
   "cell_type": "code",
   "execution_count": 25,
   "id": "bbede252",
   "metadata": {},
   "outputs": [],
   "source": [
    "# Create your features\n",
    "df['Target'] = df['Close'].shift(-1)  # next day's close price\n",
    "df = df.dropna().reset_index(drop=True)\n",
    "\n",
    "# Features to use (you can add more)\n",
    "features = ['Open', 'High', 'Low', 'Close', 'Volume']\n",
    "\n",
    "X = df[features]\n",
    "y = df['Target']"
   ]
  },
  {
   "cell_type": "markdown",
   "id": "9b315735",
   "metadata": {},
   "source": [
    "#### Train-Test Split"
   ]
  },
  {
   "cell_type": "code",
   "execution_count": 26,
   "id": "aa52d3fc",
   "metadata": {},
   "outputs": [],
   "source": [
    "from sklearn.model_selection import train_test_split\n",
    "\n",
    "X_train, X_test, y_train, y_test = train_test_split(X, y, test_size=0.2, shuffle=False)"
   ]
  },
  {
   "cell_type": "markdown",
   "id": "42659588",
   "metadata": {},
   "source": [
    "#### Train Regressor"
   ]
  },
  {
   "cell_type": "code",
   "execution_count": 27,
   "id": "7b539dc6",
   "metadata": {},
   "outputs": [
    {
     "name": "stdout",
     "output_type": "stream",
     "text": [
      "Root Mean Squared Error (RMSE): 396.29\n"
     ]
    }
   ],
   "source": [
    "from sklearn.ensemble import RandomForestRegressor\n",
    "from sklearn.metrics import mean_squared_error\n",
    "\n",
    "model = RandomForestRegressor()\n",
    "model.fit(X_train, y_train)\n",
    "\n",
    "y_pred = model.predict(X_test)\n",
    "rmse = mean_squared_error(y_test, y_pred, squared=False)\n",
    "\n",
    "print(f\"Root Mean Squared Error (RMSE): {rmse:.2f}\")"
   ]
  },
  {
   "cell_type": "markdown",
   "id": "82e47d7d",
   "metadata": {},
   "source": [
    "#### Plot Actual vs Predicted"
   ]
  },
  {
   "cell_type": "code",
   "execution_count": 28,
   "id": "d3b50ca4",
   "metadata": {},
   "outputs": [
    {
     "data": {
      "image/png": "[encoded data removed]",
      "text/plain": [
       "<Figure size 1400x800 with 1 Axes>"
      ]
     },
     "metadata": {},
     "output_type": "display_data"
    }
   ],
   "source": [
    "import matplotlib.pyplot as plt\n",
    "\n",
    "plt.figure(figsize=(14, 8))\n",
    "\n",
    "# Plot actual values\n",
    "plt.plot(y_test.values[:50], label='Actual', marker='o')\n",
    "# Plot predicted values\n",
    "plt.plot(y_pred[:50], label='Predicted', marker='x')\n",
    "\n",
    "# Add data labels\n",
    "for i in range(50):\n",
    "    plt.text(i, y_test.values[i] + 2, f\"{y_test.values[i]:.2f}\", fontsize=6, color='blue', ha='center')\n",
    "    plt.text(i, y_pred[i] - 2, f\"{y_pred[i]:.2f}\", fontsize=6, color='red', ha='center')\n",
    "\n",
    "plt.title(\"Actual vs Predicted Close Price (Sample - With Data Labels)\")\n",
    "plt.xlabel(\"Days\")\n",
    "plt.ylabel(\"Close Price\")\n",
    "plt.legend()\n",
    "plt.grid(True)\n",
    "plt.tight_layout()\n",
    "plt.show()"
   ]
  },
  {
   "cell_type": "markdown",
   "id": "7f811227",
   "metadata": {},
   "source": [
    "# Import Libraby"
   ]
  },
  {
   "cell_type": "code",
   "execution_count": 29,
   "id": "cf66b624",
   "metadata": {},
   "outputs": [],
   "source": [
    "import pandas as pd\n",
    "import numpy as np\n",
    "import matplotlib.pyplot as plt\n",
    "from sklearn.model_selection import train_test_split"
   ]
  },
  {
   "cell_type": "markdown",
   "id": "d4c4f99f",
   "metadata": {},
   "source": [
    "## Load and Preprocess Data"
   ]
  },
  {
   "cell_type": "code",
   "execution_count": 30,
   "id": "0a7ad826",
   "metadata": {},
   "outputs": [],
   "source": [
    "import pandas as pd\n",
    "import numpy as np\n",
    "\n",
    "# Load data\n",
    "#df = pd.read_csv('your_data.csv')\n",
    "\n",
    "# Clean column names (if needed)\n",
    "df_split1.columns = df_split1.columns.str.strip().str.replace('\\ufeff', '', regex=False)\n",
    "df_split2.columns = df_split2.columns.str.strip().str.replace('\\ufeff', '', regex=False)\n",
    "\n",
    "# Drop rows with missing values\n",
    "df_split1.dropna(inplace=True)\n",
    "df_split2.dropna(inplace=True)\n",
    "\n",
    "# Create classification target: 1 = price will go up, 0 = down or same\n",
    "df_split1['Target'] = (df_split1['Close'].shift(-1) > df_split1['Close']).astype(int)\n",
    "df_split2['Target'] = (df_split2['Close'].shift(-1) > df_split2['Close']).astype(int)\n",
    "\n",
    "# Drop last row (it has NaN in 'Target')\n",
    "df_split1.dropna(inplace=True)\n",
    "df_split2.dropna(inplace=True)\n",
    "\n",
    "# Features and target\n",
    "features = ['Open', 'High', 'Low', 'Close', 'Volume']\n",
    "X1 = df_split1[features]\n",
    "X2 = df_split2[features]\n",
    "y1 = df_split1['Target']\n",
    "y2 = df_split2['Target']"
   ]
  },
  {
   "cell_type": "code",
   "execution_count": 31,
   "id": "425ed44b",
   "metadata": {},
   "outputs": [],
   "source": [
    "from sklearn.model_selection import train_test_split\n",
    "\n",
    "X1_train, X1_test, y1_train, y1_test = train_test_split(X1, y1, test_size=0.2, shuffle=False)\n",
    "X2_train, X2_test, y2_train, y2_test = train_test_split(X2, y2, test_size=0.2, shuffle=False)"
   ]
  },
  {
   "cell_type": "markdown",
   "id": "696de15c",
   "metadata": {},
   "source": [
    "# Logistic Regression"
   ]
  },
  {
   "cell_type": "code",
   "execution_count": 32,
   "id": "03110f26",
   "metadata": {},
   "outputs": [
    {
     "name": "stdout",
     "output_type": "stream",
     "text": [
      "Logistic Regression Accuracy: 0.5152919369786839\n",
      "              precision    recall  f1-score   support\n",
      "\n",
      "           0       0.46      0.19      0.26       508\n",
      "           1       0.53      0.81      0.64       571\n",
      "\n",
      "    accuracy                           0.52      1079\n",
      "   macro avg       0.50      0.50      0.45      1079\n",
      "weighted avg       0.50      0.52      0.46      1079\n",
      "\n"
     ]
    }
   ],
   "source": [
    "from sklearn.linear_model import LogisticRegression\n",
    "from sklearn.metrics import accuracy_score, classification_report\n",
    "\n",
    "log_model = LogisticRegression(max_iter=1000)\n",
    "log_model.fit(X1_train, y1_train)\n",
    "y1_pred_log = log_model.predict(X1_test)\n",
    "\n",
    "print(\"Logistic Regression Accuracy:\", accuracy_score(y1_test, y1_pred_log))\n",
    "print(classification_report(y1_test, y1_pred_log))"
   ]
  },
  {
   "cell_type": "code",
   "execution_count": 33,
   "id": "875b79ed",
   "metadata": {},
   "outputs": [
    {
     "name": "stdout",
     "output_type": "stream",
     "text": [
      "Logistic Regression Accuracy: 0.5019257559616488\n",
      "              precision    recall  f1-score   support\n",
      "\n",
      "           0       0.49      0.58      0.53     12008\n",
      "           1       0.51      0.43      0.47     12398\n",
      "\n",
      "    accuracy                           0.50     24406\n",
      "   macro avg       0.50      0.50      0.50     24406\n",
      "weighted avg       0.50      0.50      0.50     24406\n",
      "\n"
     ]
    }
   ],
   "source": [
    "from sklearn.linear_model import LogisticRegression\n",
    "from sklearn.metrics import accuracy_score, classification_report\n",
    "\n",
    "log_model = LogisticRegression(max_iter=1000)\n",
    "log_model.fit(X2_train, y2_train)\n",
    "y2_pred_log = log_model.predict(X2_test)\n",
    "\n",
    "print(\"Logistic Regression Accuracy:\", accuracy_score(y2_test, y2_pred_log))\n",
    "print(classification_report(y2_test, y2_pred_log))"
   ]
  },
  {
   "cell_type": "markdown",
   "id": "c3af59f1",
   "metadata": {},
   "source": [
    "# XGBoost Classifier"
   ]
  },
  {
   "cell_type": "code",
   "execution_count": 34,
   "id": "b5339cf1",
   "metadata": {
    "scrolled": false
   },
   "outputs": [
    {
     "name": "stdout",
     "output_type": "stream",
     "text": [
      "Requirement already satisfied: xgboost in c:\\users\\shubh\\anaconda3\\lib\\site-packages (3.0.2)\n",
      "Requirement already satisfied: numpy in c:\\users\\shubh\\anaconda3\\lib\\site-packages (from xgboost) (1.24.3)\n",
      "Requirement already satisfied: scipy in c:\\users\\shubh\\anaconda3\\lib\\site-packages (from xgboost) (1.11.1)\n",
      "Note: you may need to restart the kernel to use updated packages.\n"
     ]
    }
   ],
   "source": [
    "pip install xgboost"
   ]
  },
  {
   "cell_type": "code",
   "execution_count": 35,
   "id": "81c99594",
   "metadata": {},
   "outputs": [],
   "source": [
    "#conda install -c conda-forge xgboost"
   ]
  },
  {
   "cell_type": "code",
   "execution_count": 36,
   "id": "24f81f32",
   "metadata": {},
   "outputs": [
    {
     "name": "stdout",
     "output_type": "stream",
     "text": [
      "XGBoost Accuracy: 0.5366079703429101\n",
      "              precision    recall  f1-score   support\n",
      "\n",
      "           0       0.51      0.36      0.43       508\n",
      "           1       0.55      0.69      0.61       571\n",
      "\n",
      "    accuracy                           0.54      1079\n",
      "   macro avg       0.53      0.53      0.52      1079\n",
      "weighted avg       0.53      0.54      0.52      1079\n",
      "\n"
     ]
    },
    {
     "name": "stderr",
     "output_type": "stream",
     "text": [
      "C:\\Users\\Shubh\\anaconda3\\Lib\\site-packages\\xgboost\\training.py:183: UserWarning: [20:02:25] WARNING: C:\\actions-runner\\_work\\xgboost\\xgboost\\src\\learner.cc:738: \n",
      "Parameters: { \"use_label_encoder\" } are not used.\n",
      "\n",
      "  bst.update(dtrain, iteration=i, fobj=obj)\n"
     ]
    }
   ],
   "source": [
    "from xgboost import XGBClassifier\n",
    "\n",
    "xgb_model = XGBClassifier(use_label_encoder=False, eval_metric='logloss')\n",
    "xgb_model.fit(X1_train, y1_train)\n",
    "y1_pred_xgb = xgb_model.predict(X1_test)\n",
    "\n",
    "print(\"XGBoost Accuracy:\", accuracy_score(y1_test, y1_pred_xgb))\n",
    "print(classification_report(y1_test, y1_pred_xgb))"
   ]
  },
  {
   "cell_type": "code",
   "execution_count": 37,
   "id": "d4e2cf63",
   "metadata": {},
   "outputs": [
    {
     "name": "stderr",
     "output_type": "stream",
     "text": [
      "C:\\Users\\Shubh\\anaconda3\\Lib\\site-packages\\xgboost\\training.py:183: UserWarning: [20:02:25] WARNING: C:\\actions-runner\\_work\\xgboost\\xgboost\\src\\learner.cc:738: \n",
      "Parameters: { \"use_label_encoder\" } are not used.\n",
      "\n",
      "  bst.update(dtrain, iteration=i, fobj=obj)\n"
     ]
    },
    {
     "name": "stdout",
     "output_type": "stream",
     "text": [
      "XGBoost Accuracy: 0.4991805293780218\n",
      "              precision    recall  f1-score   support\n",
      "\n",
      "           0       0.49      0.52      0.51     12008\n",
      "           1       0.51      0.48      0.49     12398\n",
      "\n",
      "    accuracy                           0.50     24406\n",
      "   macro avg       0.50      0.50      0.50     24406\n",
      "weighted avg       0.50      0.50      0.50     24406\n",
      "\n"
     ]
    }
   ],
   "source": [
    "from xgboost import XGBClassifier\n",
    "\n",
    "xgb_model = XGBClassifier(use_label_encoder=False, eval_metric='logloss')\n",
    "xgb_model.fit(X2_train, y2_train)\n",
    "y2_pred_xgb = xgb_model.predict(X2_test)\n",
    "\n",
    "print(\"XGBoost Accuracy:\", accuracy_score(y2_test, y2_pred_xgb))\n",
    "print(classification_report(y2_test, y2_pred_xgb))"
   ]
  },
  {
   "cell_type": "markdown",
   "id": "11e40206",
   "metadata": {},
   "source": [
    "# RandomForestRegressor"
   ]
  },
  {
   "cell_type": "code",
   "execution_count": 38,
   "id": "8fd5c6ed",
   "metadata": {},
   "outputs": [
    {
     "name": "stdout",
     "output_type": "stream",
     "text": [
      "Root Mean Squared Error (RMSE): 0.53\n"
     ]
    }
   ],
   "source": [
    "from sklearn.ensemble import RandomForestRegressor\n",
    "from sklearn.metrics import mean_squared_error\n",
    "\n",
    "model = RandomForestRegressor()\n",
    "model.fit(X1_train, y1_train)\n",
    "\n",
    "y1_pred = model.predict(X1_test)\n",
    "rmse = mean_squared_error(y1_test, y1_pred, squared=False)\n",
    "\n",
    "print(f\"Root Mean Squared Error (RMSE): {rmse:.2f}\")"
   ]
  },
  {
   "cell_type": "code",
   "execution_count": 39,
   "id": "32737161",
   "metadata": {},
   "outputs": [
    {
     "name": "stdout",
     "output_type": "stream",
     "text": [
      "Root Mean Squared Error (RMSE): 0.53\n"
     ]
    }
   ],
   "source": [
    "from sklearn.ensemble import RandomForestRegressor\n",
    "from sklearn.metrics import mean_squared_error\n",
    "\n",
    "model = RandomForestRegressor()\n",
    "model.fit(X2_train, y2_train)\n",
    "\n",
    "y2_pred = model.predict(X2_test)\n",
    "rmse = mean_squared_error(y2_test, y2_pred, squared=False)\n",
    "\n",
    "print(f\"Root Mean Squared Error (RMSE): {rmse:.2f}\")"
   ]
  },
  {
   "cell_type": "markdown",
   "id": "fb344078",
   "metadata": {},
   "source": [
    "# LSTM for Classification (same data, same labels)"
   ]
  },
  {
   "cell_type": "code",
   "execution_count": null,
   "id": "df077f59",
   "metadata": {},
   "outputs": [],
   "source": [
    "conda install -c conda-forge tensorflow"
   ]
  },
  {
   "cell_type": "code",
   "execution_count": 41,
   "id": "76a274e0",
   "metadata": {},
   "outputs": [
    {
     "ename": "ModuleNotFoundError",
     "evalue": "No module named 'tensorflow'",
     "output_type": "error",
     "traceback": [
      "\u001b[1;31m---------------------------------------------------------------------------\u001b[0m",
      "\u001b[1;31mModuleNotFoundError\u001b[0m                       Traceback (most recent call last)",
      "Cell \u001b[1;32mIn[41], line 3\u001b[0m\n\u001b[0;32m      1\u001b[0m \u001b[38;5;28;01mimport\u001b[39;00m \u001b[38;5;21;01mnumpy\u001b[39;00m \u001b[38;5;28;01mas\u001b[39;00m \u001b[38;5;21;01mnp\u001b[39;00m\n\u001b[0;32m      2\u001b[0m \u001b[38;5;28;01mfrom\u001b[39;00m \u001b[38;5;21;01msklearn\u001b[39;00m\u001b[38;5;21;01m.\u001b[39;00m\u001b[38;5;21;01mpreprocessing\u001b[39;00m \u001b[38;5;28;01mimport\u001b[39;00m MinMaxScaler\n\u001b[1;32m----> 3\u001b[0m \u001b[38;5;28;01mfrom\u001b[39;00m \u001b[38;5;21;01mtensorflow\u001b[39;00m\u001b[38;5;21;01m.\u001b[39;00m\u001b[38;5;21;01mkeras\u001b[39;00m\u001b[38;5;21;01m.\u001b[39;00m\u001b[38;5;21;01mmodels\u001b[39;00m \u001b[38;5;28;01mimport\u001b[39;00m Sequential\n\u001b[0;32m      4\u001b[0m \u001b[38;5;28;01mfrom\u001b[39;00m \u001b[38;5;21;01mtensorflow\u001b[39;00m\u001b[38;5;21;01m.\u001b[39;00m\u001b[38;5;21;01mkeras\u001b[39;00m\u001b[38;5;21;01m.\u001b[39;00m\u001b[38;5;21;01mlayers\u001b[39;00m \u001b[38;5;28;01mimport\u001b[39;00m LSTM, Dense\n\u001b[0;32m      6\u001b[0m \u001b[38;5;66;03m# Normalize features\u001b[39;00m\n",
      "\u001b[1;31mModuleNotFoundError\u001b[0m: No module named 'tensorflow'"
     ]
    }
   ],
   "source": [
    "import numpy as np\n",
    "from sklearn.preprocessing import MinMaxScaler\n",
    "from tensorflow.keras.models import Sequential\n",
    "from tensorflow.keras.layers import LSTM, Dense\n",
    "\n",
    "# Normalize features\n",
    "scaler = MinMaxScaler()\n",
    "X_scaled = scaler.fit_transform(X)\n",
    "\n",
    "# Reshape for LSTM: [samples, time_steps, features]\n",
    "# We use time_steps = 1\n",
    "X_lstm = X_scaled.reshape((X_scaled.shape[0], 1, X_scaled.shape[1]))\n",
    "\n",
    "# Train/test split\n",
    "X1_train, X1_test, y1_train, y1_test = train_test_split(X_lstm, y, test_size=0.2, shuffle=False)"
   ]
  },
  {
   "cell_type": "code",
   "execution_count": null,
   "id": "4c626d20",
   "metadata": {},
   "outputs": [],
   "source": [
    "import numpy as np\n",
    "from sklearn.preprocessing import MinMaxScaler\n",
    "from tensorflow.keras.models import Sequential\n",
    "from tensorflow.keras.layers import LSTM, Dense\n",
    "\n",
    "# Normalize features\n",
    "scaler = MinMaxScaler()\n",
    "X_scaled = scaler.fit_transform(X)\n",
    "\n",
    "# Reshape for LSTM: [samples, time_steps, features]\n",
    "# We use time_steps = 1\n",
    "X_lstm = X_scaled.reshape((X_scaled.shape[0], 1, X_scaled.shape[1]))\n",
    "\n",
    "# Train/test split\n",
    "X2_train, X2_test, y2_train, y2_test = train_test_split(X_lstm, y, test_size=0.2, shuffle=False)"
   ]
  },
  {
   "cell_type": "code",
   "execution_count": null,
   "id": "a066528d",
   "metadata": {},
   "outputs": [],
   "source": [
    "model_lstm = Sequential()\n",
    "model_lstm.add(LSTM(50, input_shape=(X1_train.shape[1], X1_train.shape[2]), activation='relu'))\n",
    "model_lstm.add(Dense(1, activation='sigmoid'))  # Binary classification\n",
    "\n",
    "model_lstm.compile(optimizer='adam', loss='binary_crossentropy', metrics=['accuracy'])\n",
    "\n",
    "# Train the model\n",
    "model_lstm.fit(X1_train, y1_train, epochs=10, batch_size=32, validation_split=0.1)"
   ]
  },
  {
   "cell_type": "code",
   "execution_count": null,
   "id": "f47dba14",
   "metadata": {},
   "outputs": [],
   "source": [
    "model_lstm = Sequential()\n",
    "model_lstm.add(LSTM(50, input_shape=(X2_train.shape[1], X2_train.shape[2]), activation='relu'))\n",
    "model_lstm.add(Dense(1, activation='sigmoid'))  # Binary classification\n",
    "\n",
    "model_lstm.compile(optimizer='adam', loss='binary_crossentropy', metrics=['accuracy'])\n",
    "\n",
    "# Train the model\n",
    "model_lstm.fit(X2_train, y2_train, epochs=10, batch_size=32, validation_split=0.1)"
   ]
  },
  {
   "cell_type": "code",
   "execution_count": null,
   "id": "21f14452",
   "metadata": {},
   "outputs": [],
   "source": [
    "# Predictions\n",
    "y_pred_lstm = (model_lstm.predict(X1_test) > 0.5).astype(int)\n",
    "\n",
    "# Evaluation\n",
    "from sklearn.metrics import classification_report, accuracy_score\n",
    "print(\"LSTM Accuracy:\", accuracy_score(y1_test, y_pred_lstm))\n",
    "print(classification_report(y1_test, y_pred_lstm))"
   ]
  },
  {
   "cell_type": "code",
   "execution_count": null,
   "id": "9e12a29c",
   "metadata": {},
   "outputs": [],
   "source": [
    "# Predictions\n",
    "y_pred_lstm = (model_lstm.predict(X1_test) > 0.5).astype(int)\n",
    "\n",
    "# Evaluation\n",
    "from sklearn.metrics import classification_report, accuracy_score\n",
    "print(\"LSTM Accuracy:\", accuracy_score(y2_test, y_pred_lstm))\n",
    "print(classification_report(y2_test, y_pred_lstm))"
   ]
  }
 ],
 "metadata": {
  "kernelspec": {
   "display_name": "Python 3 (ipykernel)",
   "language": "python",
   "name": "python3"
  },
  "language_info": {
   "codemirror_mode": {
    "name": "ipython",
    "version": 3
   },
   "file_extension": ".py",
   "mimetype": "text/x-python",
   "name": "python",
   "nbconvert_exporter": "python",
   "pygments_lexer": "ipython3",
   "version": "3.11.5"
  }
 },
 "nbformat": 4,
 "nbformat_minor": 5
}
